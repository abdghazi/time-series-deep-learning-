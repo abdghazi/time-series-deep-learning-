{
 "cells": [
  {
   "cell_type": "code",
   "execution_count": 1,
   "metadata": {},
   "outputs": [],
   "source": [
    "from tensorflow.keras.layers import Input, SimpleRNN, Dense, Flatten\n",
    "from tensorflow.keras.models import Model\n",
    "from tensorflow.keras.optimizers import SGD, Adam"
   ]
  },
  {
   "cell_type": "code",
   "execution_count": 2,
   "metadata": {},
   "outputs": [],
   "source": [
    "import pandas as pd \n",
    "import numpy as np\n",
    "import matplotlib.pyplot as plt"
   ]
  },
  {
   "cell_type": "code",
   "execution_count": 8,
   "metadata": {},
   "outputs": [
    {
     "data": {
      "image/png": "[encoded data removed]",
      "text/plain": [
       "<Figure size 432x288 with 1 Axes>"
      ]
     },
     "metadata": {
      "needs_background": "light"
     },
     "output_type": "display_data"
    }
   ],
   "source": [
    "#data\n",
    "noise = np.random.randn(200)*0.1\n",
    "series = np.sin(0.1*np.arange(200)) + noise\n",
    "clean_series = np.sin(0.1*np.arange(200))\n",
    "plt.plot(series)\n",
    "plt.plot(clean_series)\n",
    "plt.show()"
   ]
  },
  {
   "cell_type": "code",
   "execution_count": 16,
   "metadata": {},
   "outputs": [
    {
     "name": "stdout",
     "output_type": "stream",
     "text": [
      "(190, 10, 1) (190,)\n"
     ]
    }
   ],
   "source": [
    "T = 10\n",
    "D = 1 \n",
    "X = []\n",
    "Y = []\n",
    "\n",
    "for t in range(len(series)-T):\n",
    "    x = series[t:t+T]\n",
    "    y = series[t+T]\n",
    "    X.append(x)\n",
    "    Y.append(y)\n",
    "\n",
    "X = np.array(X).reshape(-1,T,1) #\n",
    "Y = np.array(Y)\n",
    "N = len(X)\n",
    "print(X.shape, Y.shape)\n"
   ]
  },
  {
   "cell_type": "code",
   "execution_count": 20,
   "metadata": {},
   "outputs": [
    {
     "name": "stdout",
     "output_type": "stream",
     "text": [
      "Train on 95 samples, validate on 95 samples\n",
      "Epoch 1/80\n",
      "95/95 [==============================] - 1s 13ms/sample - loss: 0.4722 - val_loss: 0.4143\n",
      "Epoch 2/80\n",
      "95/95 [==============================] - 0s 663us/sample - loss: 0.3953 - val_loss: 0.3542\n",
      "Epoch 3/80\n",
      "95/95 [==============================] - 0s 598us/sample - loss: 0.3418 - val_loss: 0.3064\n",
      "Epoch 4/80\n",
      "95/95 [==============================] - 0s 558us/sample - loss: 0.2952 - val_loss: 0.2691\n",
      "Epoch 5/80\n",
      "95/95 [==============================] - 0s 580us/sample - loss: 0.2626 - val_loss: 0.2384\n",
      "Epoch 6/80\n",
      "95/95 [==============================] - 0s 559us/sample - loss: 0.2354 - val_loss: 0.2119\n",
      "Epoch 7/80\n",
      "95/95 [==============================] - 0s 579us/sample - loss: 0.2088 - val_loss: 0.1883\n",
      "Epoch 8/80\n",
      "95/95 [==============================] - 0s 568us/sample - loss: 0.1846 - val_loss: 0.1661\n",
      "Epoch 9/80\n",
      "95/95 [==============================] - 0s 573us/sample - loss: 0.1614 - val_loss: 0.1454\n",
      "Epoch 10/80\n",
      "95/95 [==============================] - 0s 562us/sample - loss: 0.1402 - val_loss: 0.1264\n",
      "Epoch 11/80\n",
      "95/95 [==============================] - 0s 584us/sample - loss: 0.1177 - val_loss: 0.1098\n",
      "Epoch 12/80\n",
      "95/95 [==============================] - 0s 568us/sample - loss: 0.1023 - val_loss: 0.0951\n",
      "Epoch 13/80\n",
      "95/95 [==============================] - 0s 671us/sample - loss: 0.0858 - val_loss: 0.0821\n",
      "Epoch 14/80\n",
      "95/95 [==============================] - 0s 633us/sample - loss: 0.0722 - val_loss: 0.0707\n",
      "Epoch 15/80\n",
      "95/95 [==============================] - 0s 566us/sample - loss: 0.0617 - val_loss: 0.0609\n",
      "Epoch 16/80\n",
      "95/95 [==============================] - 0s 566us/sample - loss: 0.0521 - val_loss: 0.0525\n",
      "Epoch 17/80\n",
      "95/95 [==============================] - 0s 563us/sample - loss: 0.0446 - val_loss: 0.0454\n",
      "Epoch 18/80\n",
      "95/95 [==============================] - 0s 588us/sample - loss: 0.0385 - val_loss: 0.0397\n",
      "Epoch 19/80\n",
      "95/95 [==============================] - 0s 630us/sample - loss: 0.0336 - val_loss: 0.0355\n",
      "Epoch 20/80\n",
      "95/95 [==============================] - 0s 682us/sample - loss: 0.0299 - val_loss: 0.0325\n",
      "Epoch 21/80\n",
      "95/95 [==============================] - 0s 661us/sample - loss: 0.0273 - val_loss: 0.0307\n",
      "Epoch 22/80\n",
      "95/95 [==============================] - 0s 619us/sample - loss: 0.0256 - val_loss: 0.0299\n",
      "Epoch 23/80\n",
      "95/95 [==============================] - 0s 588us/sample - loss: 0.0247 - val_loss: 0.0296\n",
      "Epoch 24/80\n",
      "95/95 [==============================] - 0s 651us/sample - loss: 0.0237 - val_loss: 0.0292\n",
      "Epoch 25/80\n",
      "95/95 [==============================] - 0s 577us/sample - loss: 0.0233 - val_loss: 0.0288\n",
      "Epoch 26/80\n",
      "95/95 [==============================] - 0s 546us/sample - loss: 0.0229 - val_loss: 0.0284\n",
      "Epoch 27/80\n",
      "95/95 [==============================] - 0s 546us/sample - loss: 0.0226 - val_loss: 0.0279\n",
      "Epoch 28/80\n",
      "95/95 [==============================] - 0s 546us/sample - loss: 0.0224 - val_loss: 0.0275\n",
      "Epoch 29/80\n",
      "95/95 [==============================] - 0s 536us/sample - loss: 0.0221 - val_loss: 0.0271\n",
      "Epoch 30/80\n",
      "95/95 [==============================] - 0s 546us/sample - loss: 0.0217 - val_loss: 0.0266\n",
      "Epoch 31/80\n",
      "95/95 [==============================] - 0s 546us/sample - loss: 0.0212 - val_loss: 0.0261\n",
      "Epoch 32/80\n",
      "95/95 [==============================] - 0s 535us/sample - loss: 0.0208 - val_loss: 0.0257\n",
      "Epoch 33/80\n",
      "95/95 [==============================] - 0s 609us/sample - loss: 0.0206 - val_loss: 0.0253\n",
      "Epoch 34/80\n",
      "95/95 [==============================] - 0s 630us/sample - loss: 0.0202 - val_loss: 0.0248\n",
      "Epoch 35/80\n",
      "95/95 [==============================] - 0s 598us/sample - loss: 0.0198 - val_loss: 0.0243\n",
      "Epoch 36/80\n",
      "95/95 [==============================] - 0s 671us/sample - loss: 0.0195 - val_loss: 0.0240\n",
      "Epoch 37/80\n",
      "95/95 [==============================] - 0s 640us/sample - loss: 0.0192 - val_loss: 0.0236\n",
      "Epoch 38/80\n",
      "95/95 [==============================] - 0s 640us/sample - loss: 0.0189 - val_loss: 0.0233\n",
      "Epoch 39/80\n",
      "95/95 [==============================] - 0s 667us/sample - loss: 0.0185 - val_loss: 0.0229\n",
      "Epoch 40/80\n",
      "95/95 [==============================] - 0s 619us/sample - loss: 0.0183 - val_loss: 0.0226\n",
      "Epoch 41/80\n",
      "95/95 [==============================] - 0s 609us/sample - loss: 0.0181 - val_loss: 0.0223\n",
      "Epoch 42/80\n",
      "95/95 [==============================] - 0s 567us/sample - loss: 0.0178 - val_loss: 0.0220\n",
      "Epoch 43/80\n",
      "95/95 [==============================] - 0s 546us/sample - loss: 0.0176 - val_loss: 0.0217\n",
      "Epoch 44/80\n",
      "95/95 [==============================] - 0s 609us/sample - loss: 0.0173 - val_loss: 0.0214\n",
      "Epoch 45/80\n",
      "95/95 [==============================] - 0s 598us/sample - loss: 0.0170 - val_loss: 0.0212\n",
      "Epoch 46/80\n",
      "95/95 [==============================] - 0s 598us/sample - loss: 0.0169 - val_loss: 0.0210\n",
      "Epoch 47/80\n",
      "95/95 [==============================] - 0s 598us/sample - loss: 0.0167 - val_loss: 0.0207\n",
      "Epoch 48/80\n",
      "95/95 [==============================] - 0s 567us/sample - loss: 0.0164 - val_loss: 0.0205\n",
      "Epoch 49/80\n",
      "95/95 [==============================] - 0s 598us/sample - loss: 0.0163 - val_loss: 0.0203\n",
      "Epoch 50/80\n",
      "95/95 [==============================] - 0s 577us/sample - loss: 0.0161 - val_loss: 0.0201\n",
      "Epoch 51/80\n",
      "95/95 [==============================] - 0s 567us/sample - loss: 0.0159 - val_loss: 0.0199\n",
      "Epoch 52/80\n",
      "95/95 [==============================] - 0s 808us/sample - loss: 0.0156 - val_loss: 0.0197\n",
      "Epoch 53/80\n",
      "95/95 [==============================] - 0s 934us/sample - loss: 0.0154 - val_loss: 0.0195\n",
      "Epoch 54/80\n",
      "95/95 [==============================] - 0s 619us/sample - loss: 0.0153 - val_loss: 0.0193\n",
      "Epoch 55/80\n",
      "95/95 [==============================] - 0s 588us/sample - loss: 0.0151 - val_loss: 0.0192\n",
      "Epoch 56/80\n",
      "95/95 [==============================] - 0s 619us/sample - loss: 0.0150 - val_loss: 0.0190\n",
      "Epoch 57/80\n",
      "95/95 [==============================] - 0s 567us/sample - loss: 0.0148 - val_loss: 0.0188\n",
      "Epoch 58/80\n",
      "95/95 [==============================] - 0s 546us/sample - loss: 0.0147 - val_loss: 0.0187\n",
      "Epoch 59/80\n",
      "95/95 [==============================] - 0s 546us/sample - loss: 0.0146 - val_loss: 0.0185\n",
      "Epoch 60/80\n",
      "95/95 [==============================] - 0s 567us/sample - loss: 0.0144 - val_loss: 0.0183\n",
      "Epoch 61/80\n",
      "95/95 [==============================] - 0s 546us/sample - loss: 0.0143 - val_loss: 0.0182\n",
      "Epoch 62/80\n",
      "95/95 [==============================] - 0s 567us/sample - loss: 0.0142 - val_loss: 0.0181\n",
      "Epoch 63/80\n",
      "95/95 [==============================] - 0s 556us/sample - loss: 0.0140 - val_loss: 0.0180\n",
      "Epoch 64/80\n",
      "95/95 [==============================] - 0s 588us/sample - loss: 0.0139 - val_loss: 0.0179\n",
      "Epoch 65/80\n",
      "95/95 [==============================] - 0s 577us/sample - loss: 0.0138 - val_loss: 0.0178\n",
      "Epoch 66/80\n",
      "95/95 [==============================] - 0s 566us/sample - loss: 0.0137 - val_loss: 0.0177\n",
      "Epoch 67/80\n",
      "95/95 [==============================] - 0s 567us/sample - loss: 0.0136 - val_loss: 0.0175\n",
      "Epoch 68/80\n",
      "95/95 [==============================] - 0s 578us/sample - loss: 0.0136 - val_loss: 0.0174\n",
      "Epoch 69/80\n",
      "95/95 [==============================] - 0s 567us/sample - loss: 0.0135 - val_loss: 0.0173\n",
      "Epoch 70/80\n",
      "95/95 [==============================] - 0s 567us/sample - loss: 0.0133 - val_loss: 0.0172\n",
      "Epoch 71/80\n",
      "95/95 [==============================] - 0s 693us/sample - loss: 0.0133 - val_loss: 0.0171\n",
      "Epoch 72/80\n",
      "95/95 [==============================] - 0s 641us/sample - loss: 0.0132 - val_loss: 0.0171\n",
      "Epoch 73/80\n",
      "95/95 [==============================] - 0s 588us/sample - loss: 0.0132 - val_loss: 0.0171\n",
      "Epoch 74/80\n",
      "95/95 [==============================] - 0s 609us/sample - loss: 0.0130 - val_loss: 0.0169\n",
      "Epoch 75/80\n",
      "95/95 [==============================] - 0s 651us/sample - loss: 0.0129 - val_loss: 0.0169\n",
      "Epoch 76/80\n",
      "95/95 [==============================] - 0s 609us/sample - loss: 0.0129 - val_loss: 0.0169\n",
      "Epoch 77/80\n",
      "95/95 [==============================] - 0s 598us/sample - loss: 0.0128 - val_loss: 0.0168\n",
      "Epoch 78/80\n",
      "95/95 [==============================] - 0s 567us/sample - loss: 0.0128 - val_loss: 0.0167\n",
      "Epoch 79/80\n",
      "95/95 [==============================] - 0s 577us/sample - loss: 0.0127 - val_loss: 0.0167\n",
      "Epoch 80/80\n",
      "95/95 [==============================] - 0s 567us/sample - loss: 0.0127 - val_loss: 0.0166\n"
     ]
    }
   ],
   "source": [
    "i = Input(shape=(T, 1))\n",
    "x = SimpleRNN(15)(i)\n",
    "x = Dense(1)(x)\n",
    "model = Model(i, x)\n",
    "model.compile(\n",
    "  loss='mse',\n",
    "  optimizer=Adam(lr=0.001),\n",
    ")\n",
    "\n",
    "# train the RNN\n",
    "r = model.fit(\n",
    "  X[:-N//2], Y[:-N//2],\n",
    "  epochs=80,\n",
    "  validation_data=(X[-N//2:], Y[-N//2:]),\n",
    ")"
   ]
  },
  {
   "cell_type": "code",
   "execution_count": 21,
   "metadata": {},
   "outputs": [
    {
     "data": {
      "text/plain": [
       "<matplotlib.legend.Legend at 0x242782c6d68>"
      ]
     },
     "execution_count": 21,
     "metadata": {},
     "output_type": "execute_result"
    },
    {
     "data": {
      "image/png": "[encoded data removed]",
      "text/plain": [
       "<Figure size 432x288 with 1 Axes>"
      ]
     },
     "metadata": {
      "needs_background": "light"
     },
     "output_type": "display_data"
    }
   ],
   "source": [
    "plt.plot(r.history[\"loss\"], label = \"loss\")\n",
    "plt.plot(r.history[\"val_loss\"], label = \"val_loss\")\n",
    "plt.legend()"
   ]
  },
  {
   "cell_type": "code",
   "execution_count": 24,
   "metadata": {},
   "outputs": [],
   "source": [
    "validation_target = Y[-N//2:]\n",
    "validation_prediction = []\n",
    "i = -N//2\n",
    "\n",
    "while len(validation_prediction) < len(validation_target):\n",
    "    p = model.predict(X[i].reshape(1,-1,1))[0,0]\n",
    "    i+=1\n",
    "    \n",
    "    validation_prediction.append(p)\n",
    "    "
   ]
  },
  {
   "cell_type": "markdown",
   "metadata": {},
   "source": [
    "#### RNN shapes\n"
   ]
  },
  {
   "cell_type": "code",
   "execution_count": null,
   "metadata": {},
   "outputs": [],
   "source": []
  }
 ],
 "metadata": {
  "kernelspec": {
   "display_name": "Python 3",
   "language": "python",
   "name": "python3"
  },
  "language_info": {
   "codemirror_mode": {
    "name": "ipython",
    "version": 3
   },
   "file_extension": ".py",
   "mimetype": "text/x-python",
   "name": "python",
   "nbconvert_exporter": "python",
   "pygments_lexer": "ipython3",
   "version": "3.6.3"
  }
 },
 "nbformat": 4,
 "nbformat_minor": 4
}
